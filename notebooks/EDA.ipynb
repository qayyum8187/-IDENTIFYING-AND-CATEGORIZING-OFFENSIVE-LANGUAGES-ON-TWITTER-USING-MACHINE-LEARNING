{
 "cells": [
  {
   "cell_type": "markdown",
   "metadata": {},
   "source": [
    "# Imports"
   ]
  },
  {
   "cell_type": "code",
   "execution_count": 1,
   "metadata": {},
   "outputs": [
    {
     "name": "stderr",
     "output_type": "stream",
     "text": [
      "[nltk_data] Downloading package stopwords to C:\\Users\\SHOAIB\n",
      "[nltk_data]     MALIK\\AppData\\Roaming\\nltk_data...\n",
      "[nltk_data]   Package stopwords is already up-to-date!\n"
     ]
    }
   ],
   "source": [
    "from Twitter import TwitterAccess\n",
    "import pandas as pd\n",
    "import time\n",
    "from tqdm import tqdm\n",
    "import matplotlib.pyplot as plt\n",
    "import seaborn as sns\n",
    "from collections import defaultdict\n",
    "from collections import Counter\n",
    "pd.options.display.max_colwidth = None\n",
    "import nltk\n",
    "import string\n",
    "import re\n",
    "nltk.download('stopwords')\n",
    "from nltk.corpus import stopwords\n",
    "from spellchecker import *\n",
    "import random\n",
    "import numpy as np\n",
    "from multiprocessing import  Pool"
   ]
  },
  {
   "cell_type": "code",
   "execution_count": 2,
   "metadata": {},
   "outputs": [
    {
     "name": "stdout",
     "output_type": "stream",
     "text": [
      "Requirement already satisfied: pyspellchecker in c:\\anaconda\\lib\\site-packages (0.6.3)\n",
      "Note: you may need to restart the kernel to use updated packages.\n"
     ]
    }
   ],
   "source": [
    "pip install pyspellchecker"
   ]
  },
  {
   "cell_type": "code",
   "execution_count": 3,
   "metadata": {},
   "outputs": [
    {
     "name": "stdout",
     "output_type": "stream",
     "text": [
      "@ibnjuned Yeah it would have been amazing but 😰\n",
      "I really wanted to see it grow into a fully functional adult\n",
      "('1113996437203845120', 'only_mota_xx')\n"
     ]
    }
   ],
   "source": [
    "# CONSUMER_KEY = \n",
    "# CONSUMER_SECRET = \n",
    "# ACCESS_TOKEN = \n",
    "# ACCESS_SECRET = \n",
    "\n",
    "CONSUMER_KEY = 'cODIhZmrqZvIe2GumNB7BwUC1'\n",
    "CONSUMER_SECRET = 'MfnjZ42C4Yjp5z95N20ZkOSN1rNGeXy2HtMD82gYls0BN0h1TO'\n",
    "BEARER_TOKEN = 'AAAAAAAAAAAAAAAAAAAAALM%2FXQEAAAAAHtPx3bdURWjCN4Y%2B4%2FIIgLaFP%2F0%3DkvtGDkLl8a2eZqXo7USpYwscLegiLgIuPbo4hi2DRbkvgFvvZn'\n",
    "ACCESS_TOKEN = '749623811243335680-pijkJsfWFLLsMlER7kjNrcyEnXE5aAy'\n",
    "ACCESS_SECRET = 'bXa5FngFfo0HKuC5Ps6kuU5s3pyNdmmv1bGLlIeb1b0XH'\n",
    "\n",
    "api = TwitterAccess(CONSUMER_KEY, CONSUMER_SECRET, ACCESS_TOKEN, ACCESS_SECRET)\n",
    "\n",
    "tweet_id = 1460979601308487680\n",
    "\n",
    "print(api.tweet_text_from_tweet_id(tweet_id))\n",
    "print(api.user_from_tweet_id(tweet_id))"
   ]
  },
  {
   "cell_type": "code",
   "execution_count": null,
   "metadata": {},
   "outputs": [],
   "source": []
  },
  {
   "cell_type": "markdown",
   "metadata": {},
   "source": [
    "# EDA"
   ]
  },
  {
   "cell_type": "markdown",
   "metadata": {},
   "source": [
    "## OLID"
   ]
  },
  {
   "cell_type": "code",
   "execution_count": 4,
   "metadata": {},
   "outputs": [
    {
     "data": {
      "text/html": [
       "<div>\n",
       "<style scoped>\n",
       "    .dataframe tbody tr th:only-of-type {\n",
       "        vertical-align: middle;\n",
       "    }\n",
       "\n",
       "    .dataframe tbody tr th {\n",
       "        vertical-align: top;\n",
       "    }\n",
       "\n",
       "    .dataframe thead th {\n",
       "        text-align: right;\n",
       "    }\n",
       "</style>\n",
       "<table border=\"1\" class=\"dataframe\">\n",
       "  <thead>\n",
       "    <tr style=\"text-align: right;\">\n",
       "      <th></th>\n",
       "      <th>id</th>\n",
       "      <th>tweet</th>\n",
       "      <th>subtask_a</th>\n",
       "      <th>subtask_b</th>\n",
       "      <th>subtask_c</th>\n",
       "    </tr>\n",
       "  </thead>\n",
       "  <tbody>\n",
       "    <tr>\n",
       "      <th>0</th>\n",
       "      <td>86426</td>\n",
       "      <td>@USER She should ask a few native Americans what their take on this is.</td>\n",
       "      <td>OFF</td>\n",
       "      <td>UNT</td>\n",
       "      <td>NaN</td>\n",
       "    </tr>\n",
       "    <tr>\n",
       "      <th>1</th>\n",
       "      <td>90194</td>\n",
       "      <td>@USER @USER Go home you’re drunk!!! @USER #MAGA #Trump2020 👊🇺🇸👊 URL</td>\n",
       "      <td>OFF</td>\n",
       "      <td>TIN</td>\n",
       "      <td>IND</td>\n",
       "    </tr>\n",
       "    <tr>\n",
       "      <th>2</th>\n",
       "      <td>16820</td>\n",
       "      <td>Amazon is investigating Chinese employees who are selling internal data to third-party sellers looking for an edge in the competitive marketplace. URL #Amazon #MAGA #KAG #CHINA #TCOT</td>\n",
       "      <td>NOT</td>\n",
       "      <td>NaN</td>\n",
       "      <td>NaN</td>\n",
       "    </tr>\n",
       "    <tr>\n",
       "      <th>3</th>\n",
       "      <td>62688</td>\n",
       "      <td>@USER Someone should'veTaken\" this piece of shit to a volcano. 😂\"</td>\n",
       "      <td>OFF</td>\n",
       "      <td>UNT</td>\n",
       "      <td>NaN</td>\n",
       "    </tr>\n",
       "    <tr>\n",
       "      <th>4</th>\n",
       "      <td>43605</td>\n",
       "      <td>@USER @USER Obama wanted liberals &amp;amp; illegals to move into red states</td>\n",
       "      <td>NOT</td>\n",
       "      <td>NaN</td>\n",
       "      <td>NaN</td>\n",
       "    </tr>\n",
       "  </tbody>\n",
       "</table>\n",
       "</div>"
      ],
      "text/plain": [
       "      id  \\\n",
       "0  86426   \n",
       "1  90194   \n",
       "2  16820   \n",
       "3  62688   \n",
       "4  43605   \n",
       "\n",
       "                                                                                                                                                                                    tweet  \\\n",
       "0                                                                                                                 @USER She should ask a few native Americans what their take on this is.   \n",
       "1                                                                                                                     @USER @USER Go home you’re drunk!!! @USER #MAGA #Trump2020 👊🇺🇸👊 URL   \n",
       "2  Amazon is investigating Chinese employees who are selling internal data to third-party sellers looking for an edge in the competitive marketplace. URL #Amazon #MAGA #KAG #CHINA #TCOT   \n",
       "3                                                                                                                       @USER Someone should'veTaken\" this piece of shit to a volcano. 😂\"   \n",
       "4                                                                                                                @USER @USER Obama wanted liberals &amp; illegals to move into red states   \n",
       "\n",
       "  subtask_a subtask_b subtask_c  \n",
       "0       OFF       UNT       NaN  \n",
       "1       OFF       TIN       IND  \n",
       "2       NOT       NaN       NaN  \n",
       "3       OFF       UNT       NaN  \n",
       "4       NOT       NaN       NaN  "
      ]
     },
     "execution_count": 4,
     "metadata": {},
     "output_type": "execute_result"
    }
   ],
   "source": [
    "DATA_PATH = '../data/OLID/'\n",
    "PREPROCESSED = '../preprocessed/'\n",
    "\n",
    "training_data = 'olid-training-v1.0.tsv'\n",
    "\n",
    "olid = pd.read_csv(DATA_PATH + training_data, sep = '\\t')\n",
    "olid.head()"
   ]
  },
  {
   "cell_type": "code",
   "execution_count": 5,
   "metadata": {},
   "outputs": [
    {
     "data": {
      "text/plain": [
       "(NOT    0.667674\n",
       " OFF    0.332326\n",
       " Name: subtask_a, dtype: float64,\n",
       " TIN    3876\n",
       " UNT     524\n",
       " Name: subtask_b, dtype: int64,\n",
       " IND    2407\n",
       " GRP    1074\n",
       " OTH     395\n",
       " Name: subtask_c, dtype: int64)"
      ]
     },
     "execution_count": 5,
     "metadata": {},
     "output_type": "execute_result"
    }
   ],
   "source": [
    "olid['subtask_a'].value_counts(normalize = True), olid['subtask_b'].value_counts(normalize = False), olid['subtask_c'].value_counts(normalize = False)"
   ]
  },
  {
   "cell_type": "code",
   "execution_count": 6,
   "metadata": {
    "scrolled": true
   },
   "outputs": [
    {
     "data": {
      "text/html": [
       "<div>\n",
       "<style scoped>\n",
       "    .dataframe tbody tr th:only-of-type {\n",
       "        vertical-align: middle;\n",
       "    }\n",
       "\n",
       "    .dataframe tbody tr th {\n",
       "        vertical-align: top;\n",
       "    }\n",
       "\n",
       "    .dataframe thead th {\n",
       "        text-align: right;\n",
       "    }\n",
       "</style>\n",
       "<table border=\"1\" class=\"dataframe\">\n",
       "  <thead>\n",
       "    <tr style=\"text-align: right;\">\n",
       "      <th></th>\n",
       "      <th>id</th>\n",
       "      <th>tweet</th>\n",
       "      <th>subtask_a</th>\n",
       "      <th>subtask_b</th>\n",
       "      <th>subtask_c</th>\n",
       "    </tr>\n",
       "  </thead>\n",
       "  <tbody>\n",
       "    <tr>\n",
       "      <th>7</th>\n",
       "      <td>52415</td>\n",
       "      <td>@USER was literally just talking about this lol all mass shootings like that have been set ups. it’s propaganda used to divide us on major issues like gun control and terrorism</td>\n",
       "      <td>OFF</td>\n",
       "      <td>TIN</td>\n",
       "      <td>GRP</td>\n",
       "    </tr>\n",
       "    <tr>\n",
       "      <th>22</th>\n",
       "      <td>12681</td>\n",
       "      <td>@USER @USER Kind of like when conservatives wanna associate everyone to their left as communist antifa members?</td>\n",
       "      <td>OFF</td>\n",
       "      <td>TIN</td>\n",
       "      <td>GRP</td>\n",
       "    </tr>\n",
       "    <tr>\n",
       "      <th>23</th>\n",
       "      <td>82904</td>\n",
       "      <td>@USER @USER Da fuck is going on people?   There's the men's room and the women's room  Pick one and stick w it 🤔</td>\n",
       "      <td>OFF</td>\n",
       "      <td>TIN</td>\n",
       "      <td>GRP</td>\n",
       "    </tr>\n",
       "    <tr>\n",
       "      <th>32</th>\n",
       "      <td>12609</td>\n",
       "      <td>The only thing the Democrats have is lying and stalling to stop Trump from being #President.  What have they done for you lately. #Trump #Kavanaugh #MAGA #DEMSUCK</td>\n",
       "      <td>OFF</td>\n",
       "      <td>TIN</td>\n",
       "      <td>GRP</td>\n",
       "    </tr>\n",
       "    <tr>\n",
       "      <th>37</th>\n",
       "      <td>14726</td>\n",
       "      <td>@USER @USER @USER That's expected if you placate the violent leftists/terrorists. #KavanaughConfirmation #woke</td>\n",
       "      <td>OFF</td>\n",
       "      <td>TIN</td>\n",
       "      <td>GRP</td>\n",
       "    </tr>\n",
       "    <tr>\n",
       "      <th>54</th>\n",
       "      <td>84102</td>\n",
       "      <td>4 out of 10 British people are basically full-on racists. 4 out of 10 voters vote for the Conservatives. Coincidence!???!???</td>\n",
       "      <td>OFF</td>\n",
       "      <td>TIN</td>\n",
       "      <td>GRP</td>\n",
       "    </tr>\n",
       "    <tr>\n",
       "      <th>74</th>\n",
       "      <td>64429</td>\n",
       "      <td>@USER I mean it worked for gun control right? URL</td>\n",
       "      <td>OFF</td>\n",
       "      <td>TIN</td>\n",
       "      <td>GRP</td>\n",
       "    </tr>\n",
       "    <tr>\n",
       "      <th>106</th>\n",
       "      <td>52252</td>\n",
       "      <td>@USER Fuck em</td>\n",
       "      <td>OFF</td>\n",
       "      <td>TIN</td>\n",
       "      <td>GRP</td>\n",
       "    </tr>\n",
       "    <tr>\n",
       "      <th>136</th>\n",
       "      <td>28812</td>\n",
       "      <td>@USER This all I get 😢 damn these haters deleting you IG for no reason... URL</td>\n",
       "      <td>OFF</td>\n",
       "      <td>TIN</td>\n",
       "      <td>GRP</td>\n",
       "    </tr>\n",
       "    <tr>\n",
       "      <th>146</th>\n",
       "      <td>96789</td>\n",
       "      <td>@USER if the reason for Farakans illegal values are because he is black or Muslim, that would be a reason to detest him. I believe his illegal values are simply a result of bad character, like his supporters!\"</td>\n",
       "      <td>OFF</td>\n",
       "      <td>TIN</td>\n",
       "      <td>GRP</td>\n",
       "    </tr>\n",
       "    <tr>\n",
       "      <th>160</th>\n",
       "      <td>49504</td>\n",
       "      <td>@USER So has the Law changed...you just make an allegation now days and your guilty until proven innocent. Liberals are mentally ill!</td>\n",
       "      <td>OFF</td>\n",
       "      <td>TIN</td>\n",
       "      <td>GRP</td>\n",
       "    </tr>\n",
       "    <tr>\n",
       "      <th>162</th>\n",
       "      <td>31229</td>\n",
       "      <td>@USER This game sucks donkey balls</td>\n",
       "      <td>OFF</td>\n",
       "      <td>TIN</td>\n",
       "      <td>GRP</td>\n",
       "    </tr>\n",
       "    <tr>\n",
       "      <th>170</th>\n",
       "      <td>62072</td>\n",
       "      <td>@USER @USER @USER @USER @USER @USER @USER @USER @USER @USER @USER ...and #LeviStrauss wanting gun control How many of us wonder why the heck do they want our freedoms taken away ~ or is it just selective freedoms? URL</td>\n",
       "      <td>OFF</td>\n",
       "      <td>TIN</td>\n",
       "      <td>GRP</td>\n",
       "    </tr>\n",
       "    <tr>\n",
       "      <th>185</th>\n",
       "      <td>32916</td>\n",
       "      <td>@USER And the brainless #DEMS wants us to believe that he doesn't have the majority. Liberals is just like their leaders\" the corrupts #Obama and #CrookedHillary both are real bad losers #MAGA #TRUMP\"</td>\n",
       "      <td>OFF</td>\n",
       "      <td>TIN</td>\n",
       "      <td>GRP</td>\n",
       "    </tr>\n",
       "    <tr>\n",
       "      <th>189</th>\n",
       "      <td>18547</td>\n",
       "      <td>@USER @USER California gun control is direct result of white people scared of Black Panthers using their right to bear arms. NRA had no problem with that gun control!</td>\n",
       "      <td>OFF</td>\n",
       "      <td>TIN</td>\n",
       "      <td>GRP</td>\n",
       "    </tr>\n",
       "    <tr>\n",
       "      <th>192</th>\n",
       "      <td>82607</td>\n",
       "      <td>@USER @USER And yet millions of permit holding people carried legally concealed firearms that same day and didn’t hurt themselves or anyone else.   But yet they want to have stronger gun control.   Idiots!  🤨  Our wonderful media has to hype incidents that fits their agenda.</td>\n",
       "      <td>OFF</td>\n",
       "      <td>TIN</td>\n",
       "      <td>GRP</td>\n",
       "    </tr>\n",
       "    <tr>\n",
       "      <th>193</th>\n",
       "      <td>82339</td>\n",
       "      <td>@USER Yes do hurt your selves gun control freaks.</td>\n",
       "      <td>OFF</td>\n",
       "      <td>TIN</td>\n",
       "      <td>GRP</td>\n",
       "    </tr>\n",
       "    <tr>\n",
       "      <th>196</th>\n",
       "      <td>34510</td>\n",
       "      <td>@USER @USER @USER Bullshit! Regulations are good because it keeps conservatives from striping our land into the Abyss</td>\n",
       "      <td>OFF</td>\n",
       "      <td>TIN</td>\n",
       "      <td>GRP</td>\n",
       "    </tr>\n",
       "    <tr>\n",
       "      <th>200</th>\n",
       "      <td>13872</td>\n",
       "      <td>Confirm the MAN! THE LEFT WING ACTIVIST IS A LIAR WHO'S STORY CHANGES! NO HARD EVIDENCE! #ChristineBlaseyFord Innocent until proven guilty! #ConfirmKavanaugh  #MAGA  @USER  #WeakRinos #Republicans</td>\n",
       "      <td>OFF</td>\n",
       "      <td>TIN</td>\n",
       "      <td>GRP</td>\n",
       "    </tr>\n",
       "    <tr>\n",
       "      <th>206</th>\n",
       "      <td>74004</td>\n",
       "      <td>@USER @USER Leftists showing yet again how vile they can be</td>\n",
       "      <td>OFF</td>\n",
       "      <td>TIN</td>\n",
       "      <td>GRP</td>\n",
       "    </tr>\n",
       "    <tr>\n",
       "      <th>223</th>\n",
       "      <td>16885</td>\n",
       "      <td>@USER By the way why don’t you move to Haiti ? You liberals seem to make shit holes out of large cities. So go somewhere where it’s already a shit hole so you don’t have to do any work !</td>\n",
       "      <td>OFF</td>\n",
       "      <td>TIN</td>\n",
       "      <td>GRP</td>\n",
       "    </tr>\n",
       "    <tr>\n",
       "      <th>235</th>\n",
       "      <td>36289</td>\n",
       "      <td>#FireMorningJoe he is cut from the same cloth as all other conservatives. His misogyny and bigotry are always on display. He is responsible for Trump. URL</td>\n",
       "      <td>OFF</td>\n",
       "      <td>TIN</td>\n",
       "      <td>GRP</td>\n",
       "    </tr>\n",
       "    <tr>\n",
       "      <th>241</th>\n",
       "      <td>44015</td>\n",
       "      <td>@USER @USER Liberals ruin everything!</td>\n",
       "      <td>OFF</td>\n",
       "      <td>TIN</td>\n",
       "      <td>GRP</td>\n",
       "    </tr>\n",
       "    <tr>\n",
       "      <th>244</th>\n",
       "      <td>11411</td>\n",
       "      <td>@USER That's what happens when you let a liberal get a hold of a gun.  That would be a good place to start gun control.  Ban liberals from getting guns.</td>\n",
       "      <td>OFF</td>\n",
       "      <td>TIN</td>\n",
       "      <td>GRP</td>\n",
       "    </tr>\n",
       "    <tr>\n",
       "      <th>263</th>\n",
       "      <td>14808</td>\n",
       "      <td>@USER @USER @USER May be you have forgotten that at the moment we are EU citizens and so all rights afforded to us are the same as for other EU citizens. Don’t believe all the shit that goes on in your head.</td>\n",
       "      <td>OFF</td>\n",
       "      <td>TIN</td>\n",
       "      <td>GRP</td>\n",
       "    </tr>\n",
       "    <tr>\n",
       "      <th>274</th>\n",
       "      <td>87300</td>\n",
       "      <td>@USER Cause who bitches be playing with 😭😭😭😭 god aint give me the gift for nothing</td>\n",
       "      <td>OFF</td>\n",
       "      <td>TIN</td>\n",
       "      <td>GRP</td>\n",
       "    </tr>\n",
       "    <tr>\n",
       "      <th>313</th>\n",
       "      <td>42133</td>\n",
       "      <td>@USER @USER @USER @USER @USER @USER You must be talking about hateful conservatives.</td>\n",
       "      <td>OFF</td>\n",
       "      <td>TIN</td>\n",
       "      <td>GRP</td>\n",
       "    </tr>\n",
       "    <tr>\n",
       "      <th>321</th>\n",
       "      <td>76709</td>\n",
       "      <td>@USER @USER @USER @USER This is great! Mark The Great One\" Levin and Candace \"The Great\" Owens together! This team is unbeatable! They just sent liberals into a frenzy again! A whole block of liberal voters just had their heads explode! And...sadly, Alyssa Milano just wet her pants again! Great team!\"</td>\n",
       "      <td>OFF</td>\n",
       "      <td>TIN</td>\n",
       "      <td>GRP</td>\n",
       "    </tr>\n",
       "    <tr>\n",
       "      <th>322</th>\n",
       "      <td>22728</td>\n",
       "      <td>@USER #StrataData #AI #data #hairball: @USER TDavis touring the application of #Cognitive and #machinelearning techniques to speed #Governance of #data URL</td>\n",
       "      <td>OFF</td>\n",
       "      <td>TIN</td>\n",
       "      <td>GRP</td>\n",
       "    </tr>\n",
       "    <tr>\n",
       "      <th>325</th>\n",
       "      <td>47009</td>\n",
       "      <td>@USER @USER @USER @USER Only a liberal would support a liberal that spent a MILLION to get liberals elected to office. #LibFAIL! URL</td>\n",
       "      <td>OFF</td>\n",
       "      <td>TIN</td>\n",
       "      <td>GRP</td>\n",
       "    </tr>\n",
       "  </tbody>\n",
       "</table>\n",
       "</div>"
      ],
      "text/plain": [
       "        id  \\\n",
       "7    52415   \n",
       "22   12681   \n",
       "23   82904   \n",
       "32   12609   \n",
       "37   14726   \n",
       "54   84102   \n",
       "74   64429   \n",
       "106  52252   \n",
       "136  28812   \n",
       "146  96789   \n",
       "160  49504   \n",
       "162  31229   \n",
       "170  62072   \n",
       "185  32916   \n",
       "189  18547   \n",
       "192  82607   \n",
       "193  82339   \n",
       "196  34510   \n",
       "200  13872   \n",
       "206  74004   \n",
       "223  16885   \n",
       "235  36289   \n",
       "241  44015   \n",
       "244  11411   \n",
       "263  14808   \n",
       "274  87300   \n",
       "313  42133   \n",
       "321  76709   \n",
       "322  22728   \n",
       "325  47009   \n",
       "\n",
       "                                                                                                                                                                                                                                                                                                              tweet  \\\n",
       "7                                                                                                                                  @USER was literally just talking about this lol all mass shootings like that have been set ups. it’s propaganda used to divide us on major issues like gun control and terrorism   \n",
       "22                                                                                                                                                                                                  @USER @USER Kind of like when conservatives wanna associate everyone to their left as communist antifa members?   \n",
       "23                                                                                                                                                                                                 @USER @USER Da fuck is going on people?   There's the men's room and the women's room  Pick one and stick w it 🤔   \n",
       "32                                                                                                                                               The only thing the Democrats have is lying and stalling to stop Trump from being #President.  What have they done for you lately. #Trump #Kavanaugh #MAGA #DEMSUCK   \n",
       "37                                                                                                                                                                                                   @USER @USER @USER That's expected if you placate the violent leftists/terrorists. #KavanaughConfirmation #woke   \n",
       "54                                                                                                                                                                                     4 out of 10 British people are basically full-on racists. 4 out of 10 voters vote for the Conservatives. Coincidence!???!???   \n",
       "74                                                                                                                                                                                                                                                                @USER I mean it worked for gun control right? URL   \n",
       "106                                                                                                                                                                                                                                                                                                   @USER Fuck em   \n",
       "136                                                                                                                                                                                                                                   @USER This all I get 😢 damn these haters deleting you IG for no reason... URL   \n",
       "146                                                                                               @USER if the reason for Farakans illegal values are because he is black or Muslim, that would be a reason to detest him. I believe his illegal values are simply a result of bad character, like his supporters!\"   \n",
       "160                                                                                                                                                                           @USER So has the Law changed...you just make an allegation now days and your guilty until proven innocent. Liberals are mentally ill!   \n",
       "162                                                                                                                                                                                                                                                                              @USER This game sucks donkey balls   \n",
       "170                                                                                       @USER @USER @USER @USER @USER @USER @USER @USER @USER @USER @USER ...and #LeviStrauss wanting gun control How many of us wonder why the heck do they want our freedoms taken away ~ or is it just selective freedoms? URL   \n",
       "185                                                                                                        @USER And the brainless #DEMS wants us to believe that he doesn't have the majority. Liberals is just like their leaders\" the corrupts #Obama and #CrookedHillary both are real bad losers #MAGA #TRUMP\"   \n",
       "189                                                                                                                                          @USER @USER California gun control is direct result of white people scared of Black Panthers using their right to bear arms. NRA had no problem with that gun control!   \n",
       "192                             @USER @USER And yet millions of permit holding people carried legally concealed firearms that same day and didn’t hurt themselves or anyone else.   But yet they want to have stronger gun control.   Idiots!  🤨  Our wonderful media has to hype incidents that fits their agenda.   \n",
       "193                                                                                                                                                                                                                                                               @USER Yes do hurt your selves gun control freaks.   \n",
       "196                                                                                                                                                                                           @USER @USER @USER Bullshit! Regulations are good because it keeps conservatives from striping our land into the Abyss   \n",
       "200                                                                                                            Confirm the MAN! THE LEFT WING ACTIVIST IS A LIAR WHO'S STORY CHANGES! NO HARD EVIDENCE! #ChristineBlaseyFord Innocent until proven guilty! #ConfirmKavanaugh  #MAGA  @USER  #WeakRinos #Republicans   \n",
       "206                                                                                                                                                                                                                                                     @USER @USER Leftists showing yet again how vile they can be   \n",
       "223                                                                                                                      @USER By the way why don’t you move to Haiti ? You liberals seem to make shit holes out of large cities. So go somewhere where it’s already a shit hole so you don’t have to do any work !   \n",
       "235                                                                                                                                                      #FireMorningJoe he is cut from the same cloth as all other conservatives. His misogyny and bigotry are always on display. He is responsible for Trump. URL   \n",
       "241                                                                                                                                                                                                                                                                           @USER @USER Liberals ruin everything!   \n",
       "244                                                                                                                                                        @USER That's what happens when you let a liberal get a hold of a gun.  That would be a good place to start gun control.  Ban liberals from getting guns.   \n",
       "263                                                                                                 @USER @USER @USER May be you have forgotten that at the moment we are EU citizens and so all rights afforded to us are the same as for other EU citizens. Don’t believe all the shit that goes on in your head.   \n",
       "274                                                                                                                                                                                                                              @USER Cause who bitches be playing with 😭😭😭😭 god aint give me the gift for nothing   \n",
       "313                                                                                                                                                                                                                            @USER @USER @USER @USER @USER @USER You must be talking about hateful conservatives.   \n",
       "321  @USER @USER @USER @USER This is great! Mark The Great One\" Levin and Candace \"The Great\" Owens together! This team is unbeatable! They just sent liberals into a frenzy again! A whole block of liberal voters just had their heads explode! And...sadly, Alyssa Milano just wet her pants again! Great team!\"   \n",
       "322                                                                                                                                                     @USER #StrataData #AI #data #hairball: @USER TDavis touring the application of #Cognitive and #machinelearning techniques to speed #Governance of #data URL   \n",
       "325                                                                                                                                                                            @USER @USER @USER @USER Only a liberal would support a liberal that spent a MILLION to get liberals elected to office. #LibFAIL! URL   \n",
       "\n",
       "    subtask_a subtask_b subtask_c  \n",
       "7         OFF       TIN       GRP  \n",
       "22        OFF       TIN       GRP  \n",
       "23        OFF       TIN       GRP  \n",
       "32        OFF       TIN       GRP  \n",
       "37        OFF       TIN       GRP  \n",
       "54        OFF       TIN       GRP  \n",
       "74        OFF       TIN       GRP  \n",
       "106       OFF       TIN       GRP  \n",
       "136       OFF       TIN       GRP  \n",
       "146       OFF       TIN       GRP  \n",
       "160       OFF       TIN       GRP  \n",
       "162       OFF       TIN       GRP  \n",
       "170       OFF       TIN       GRP  \n",
       "185       OFF       TIN       GRP  \n",
       "189       OFF       TIN       GRP  \n",
       "192       OFF       TIN       GRP  \n",
       "193       OFF       TIN       GRP  \n",
       "196       OFF       TIN       GRP  \n",
       "200       OFF       TIN       GRP  \n",
       "206       OFF       TIN       GRP  \n",
       "223       OFF       TIN       GRP  \n",
       "235       OFF       TIN       GRP  \n",
       "241       OFF       TIN       GRP  \n",
       "244       OFF       TIN       GRP  \n",
       "263       OFF       TIN       GRP  \n",
       "274       OFF       TIN       GRP  \n",
       "313       OFF       TIN       GRP  \n",
       "321       OFF       TIN       GRP  \n",
       "322       OFF       TIN       GRP  \n",
       "325       OFF       TIN       GRP  "
      ]
     },
     "execution_count": 6,
     "metadata": {},
     "output_type": "execute_result"
    }
   ],
   "source": [
    "olid[olid['subtask_c'] == 'GRP'].head(30)"
   ]
  },
  {
   "cell_type": "markdown",
   "metadata": {},
   "source": [
    "## Class distribution"
   ]
  },
  {
   "cell_type": "code",
   "execution_count": 7,
   "metadata": {},
   "outputs": [],
   "source": [
    "# x=olid.subtask_a.value_counts()\n",
    "# sns.barplot(x.index,x)\n",
    "# plt.gca().set_ylabel('tweets')\n",
    "\n"
   ]
  },
  {
   "cell_type": "code",
   "execution_count": 8,
   "metadata": {},
   "outputs": [],
   "source": [
    "# x=olid.subtask_b.value_counts()\n",
    "# sns.barplot(x.index,x, nor)\n",
    "# plt.gca().set_ylabel('tweets')"
   ]
  },
  {
   "cell_type": "code",
   "execution_count": 9,
   "metadata": {},
   "outputs": [
    {
     "name": "stderr",
     "output_type": "stream",
     "text": [
      "C:\\Anaconda\\lib\\site-packages\\seaborn\\_decorators.py:36: FutureWarning: Pass the following variables as keyword args: x, y. From version 0.12, the only valid positional argument will be `data`, and passing other arguments without an explicit keyword will result in an error or misinterpretation.\n",
      "  warnings.warn(\n",
      "C:\\Anaconda\\lib\\site-packages\\seaborn\\_decorators.py:36: FutureWarning: Pass the following variables as keyword args: x, y. From version 0.12, the only valid positional argument will be `data`, and passing other arguments without an explicit keyword will result in an error or misinterpretation.\n",
      "  warnings.warn(\n",
      "C:\\Anaconda\\lib\\site-packages\\seaborn\\_decorators.py:36: FutureWarning: Pass the following variables as keyword args: x, y. From version 0.12, the only valid positional argument will be `data`, and passing other arguments without an explicit keyword will result in an error or misinterpretation.\n",
      "  warnings.warn(\n"
     ]
    },
    {
     "data": {
      "image/png": "[encoded data removed]",
      "text/plain": [
       "<Figure size 1080x360 with 3 Axes>"
      ]
     },
     "metadata": {
      "needs_background": "light"
     },
     "output_type": "display_data"
    }
   ],
   "source": [
    "fig,(ax1,ax2,ax3)=plt.subplots(1,3,figsize=(15,5))\n",
    "x=olid.subtask_a.value_counts()\n",
    "sns.barplot(x.index, x.values, ax=ax1)\n",
    "ax1.set_title('Sub-Task A')\n",
    "ax1.set_ylim([0,9000])\n",
    "\n",
    "x=olid.subtask_b.value_counts()\n",
    "sns.barplot(x.index, x.values, ax=ax2)\n",
    "ax2.set_title('Sub-Task B')\n",
    "ax2.set_ylim([0,9000])\n",
    "\n",
    "x=olid.subtask_c.value_counts()\n",
    "sns.barplot(x.index, x.values, ax=ax3)\n",
    "ax3.set_title('Sub-Task C')\n",
    "ax3.set_ylim([0,9000])\n",
    "\n",
    "fig.text(0.5, 0.04, 'labels', ha='center')\n",
    "fig.text(0.08, 0.5, '# tweets', va='center',  rotation='vertical')\n",
    "fig.suptitle('Class distribution', fontsize=16)\n",
    "\n",
    "plt.savefig('./label_dist.png')"
   ]
  },
  {
   "cell_type": "markdown",
   "metadata": {},
   "source": [
    "## Number of characters in tweets"
   ]
  },
  {
   "cell_type": "code",
   "execution_count": 10,
   "metadata": {},
   "outputs": [
    {
     "data": {
      "image/png": "[encoded data removed]",
      "text/plain": [
       "<Figure size 720x360 with 2 Axes>"
      ]
     },
     "metadata": {
      "needs_background": "light"
     },
     "output_type": "display_data"
    }
   ],
   "source": [
    "fig,(ax1,ax2)=plt.subplots(1,2,figsize=(10,5))\n",
    "tweet_len=olid[olid['subtask_a']=='OFF']['tweet'].str.len()\n",
    "ax1.hist(tweet_len,color='red')\n",
    "ax1.set_ylabel('# tweets')\n",
    "ax1.set_xlabel('length of tweet')\n",
    "ax1.set_title('Offensive tweets (OFF)')\n",
    "# ax1.set_ylim([0,3500])\n",
    "\n",
    "tweet_len=olid[olid['subtask_a']=='NOT']['tweet'].str.len()\n",
    "ax2.hist(tweet_len,color='green')\n",
    "ax2.set_title('Not offensive tweets  (NOT)')\n",
    "ax2.set_xlabel('length of tweet')\n",
    "# ax2.set_ylim([0,3500])\n",
    "\n",
    "# fig.suptitle('Histogram of # characters in tweets',fontsize=16)\n",
    "plt.savefig('./hist_char.png')\n",
    "plt.show()"
   ]
  },
  {
   "cell_type": "markdown",
   "metadata": {},
   "source": [
    "## Number of words in tweets"
   ]
  },
  {
   "cell_type": "code",
   "execution_count": 11,
   "metadata": {},
   "outputs": [
    {
     "data": {
      "image/png": "[encoded data removed]",
      "text/plain": [
       "<Figure size 720x360 with 2 Axes>"
      ]
     },
     "metadata": {
      "needs_background": "light"
     },
     "output_type": "display_data"
    }
   ],
   "source": [
    "fig,(ax1,ax2)=plt.subplots(1,2,figsize=(10,5))\n",
    "tweet_len = olid[olid['subtask_a']=='OFF']['tweet'].str.split().map(lambda x: len(x))\n",
    "ax1.hist(tweet_len,color='red')\n",
    "ax1.set_title('Offensive tweets (OFF)')\n",
    "ax1.set_xlabel('# words in a tweet')\n",
    "ax1.set_ylabel('# tweets')\n",
    "# ax1.set_ylim([0,3500])\n",
    "\n",
    "tweet_len = olid[olid['subtask_a']=='NOT']['tweet'].str.split().map(lambda x: len(x))\n",
    "ax2.hist(tweet_len,color='green')\n",
    "ax2.set_title('Not offensive tweets  (NOT)')\n",
    "ax2.set_xlabel('# words in a tweet')\n",
    "# ax2.set_ylim([0,3500])\n",
    "\n",
    "# fig.suptitle('Histogram of # words in a tweet', fontsize=16)\n",
    "plt.savefig('./hist_words.png')\n",
    "plt.show()"
   ]
  },
  {
   "cell_type": "markdown",
   "metadata": {},
   "source": [
    "## Common stop words"
   ]
  },
  {
   "cell_type": "code",
   "execution_count": 12,
   "metadata": {},
   "outputs": [],
   "source": [
    "def create_corpus(df, label, text,target):\n",
    "    corpus=[]\n",
    "    \n",
    "    for x in df[df[label]==target][text].str.split():\n",
    "        for i in x:\n",
    "            corpus.append(i.lower())\n",
    "    return corpus\n",
    "\n",
    "def plot_top_stop(corpus, ax):\n",
    "    stop=set(stopwords.words('english'))\n",
    "    dic=defaultdict(int)\n",
    "    for word in corpus:\n",
    "        if word in stop:\n",
    "            dic[word]+=1\n",
    "\n",
    "    top=sorted(dic.items(), key=lambda x:x[1],reverse=True)[:10]\n",
    "    x,y=zip(*top)\n",
    "    sns.barplot(list(x),list(y), ax = ax)\n",
    "    \n",
    "def plot_top_punct(corpus, ax):\n",
    "    dic=defaultdict(int)\n",
    "    special = string.punctuation\n",
    "    for i in (corpus):\n",
    "        if i in special:\n",
    "            dic[i]+=1\n",
    "\n",
    "    x,y=zip(*dic.items())\n",
    "    sns.barplot(list(x),list(y), ax = ax)\n",
    "    \n",
    "def plot_common_words(corpus, ax, n = 10):\n",
    "    counter=Counter(corpus)\n",
    "    stop= stopwords.words('english')\n",
    "    stop.append('@user')\n",
    "    stop=set(stop)\n",
    "    most=counter.most_common()\n",
    "    x=[]\n",
    "    y=[]\n",
    "    for word,count in most[:n]:\n",
    "        if (word not in stop) :\n",
    "            x.append(word)\n",
    "            y.append(count)\n",
    "    sns.barplot(x=y,y=x, ax=ax)"
   ]
  },
  {
   "cell_type": "code",
   "execution_count": 13,
   "metadata": {},
   "outputs": [
    {
     "name": "stderr",
     "output_type": "stream",
     "text": [
      "C:\\Anaconda\\lib\\site-packages\\seaborn\\_decorators.py:36: FutureWarning: Pass the following variables as keyword args: x, y. From version 0.12, the only valid positional argument will be `data`, and passing other arguments without an explicit keyword will result in an error or misinterpretation.\n",
      "  warnings.warn(\n",
      "C:\\Anaconda\\lib\\site-packages\\seaborn\\_decorators.py:36: FutureWarning: Pass the following variables as keyword args: x, y. From version 0.12, the only valid positional argument will be `data`, and passing other arguments without an explicit keyword will result in an error or misinterpretation.\n",
      "  warnings.warn(\n"
     ]
    },
    {
     "data": {
      "text/plain": [
       "Text(0.5, 0.98, 'Common stop words')"
      ]
     },
     "execution_count": 13,
     "metadata": {},
     "output_type": "execute_result"
    },
    {
     "data": {
      "image/png": "[encoded data removed]",
      "text/plain": [
       "<Figure size 864x360 with 2 Axes>"
      ]
     },
     "metadata": {
      "needs_background": "light"
     },
     "output_type": "display_data"
    }
   ],
   "source": [
    "\n",
    "fig,(ax1,ax2)=plt.subplots(1,2,figsize=(12,5))\n",
    "\n",
    "\n",
    "corpus=create_corpus(olid, 'subtask_a', 'tweet', 'OFF')\n",
    "plot_top_stop(corpus, ax1)\n",
    "ax1.set_title('Offensive tweets (OFF)')\n",
    "corpus=create_corpus(olid, 'subtask_a', 'tweet', 'NOT')\n",
    "plot_top_stop(corpus, ax2)\n",
    "ax2.set_title('Not offensive tweets  (NOT)')\n",
    "\n",
    "fig.text(0.5, 0.04, 'stop words', ha='center')\n",
    "fig.text(0.05, 0.5, 'counts', va='center',  rotation='vertical')\n",
    "fig.suptitle('Common stop words', fontsize=16)"
   ]
  },
  {
   "cell_type": "markdown",
   "metadata": {},
   "source": [
    "## Common Punct"
   ]
  },
  {
   "cell_type": "code",
   "execution_count": 14,
   "metadata": {},
   "outputs": [
    {
     "name": "stderr",
     "output_type": "stream",
     "text": [
      "C:\\Anaconda\\lib\\site-packages\\seaborn\\_decorators.py:36: FutureWarning: Pass the following variables as keyword args: x, y. From version 0.12, the only valid positional argument will be `data`, and passing other arguments without an explicit keyword will result in an error or misinterpretation.\n",
      "  warnings.warn(\n",
      "C:\\Anaconda\\lib\\site-packages\\seaborn\\_decorators.py:36: FutureWarning: Pass the following variables as keyword args: x, y. From version 0.12, the only valid positional argument will be `data`, and passing other arguments without an explicit keyword will result in an error or misinterpretation.\n",
      "  warnings.warn(\n"
     ]
    },
    {
     "data": {
      "text/plain": [
       "Text(0.5, 0.98, 'Common punctuations')"
      ]
     },
     "execution_count": 14,
     "metadata": {},
     "output_type": "execute_result"
    },
    {
     "data": {
      "image/png": "[encoded data removed]",
      "text/plain": [
       "<Figure size 864x360 with 2 Axes>"
      ]
     },
     "metadata": {
      "needs_background": "light"
     },
     "output_type": "display_data"
    }
   ],
   "source": [
    "\n",
    "fig,(ax1,ax2)=plt.subplots(1,2,figsize=(12,5))\n",
    "\n",
    "\n",
    "corpus=create_corpus(olid, 'subtask_a', 'tweet', 'OFF')\n",
    "plot_top_punct(corpus, ax1)\n",
    "ax1.set_title('Offensive tweets (OFF)')\n",
    "\n",
    "corpus=create_corpus(olid, 'subtask_a', 'tweet', 'NOT')\n",
    "plot_top_punct(corpus, ax2)\n",
    "ax2.set_title('Not offensive tweets  (NOT)')\n",
    "\n",
    "\n",
    "fig.text(0.5, 0.04, 'punctuations', ha='center')\n",
    "fig.text(0.05, 0.5, 'counts', va='center',  rotation='vertical')\n",
    "fig.suptitle('Common punctuations', fontsize=16)"
   ]
  },
  {
   "cell_type": "markdown",
   "metadata": {},
   "source": [
    "## Common words"
   ]
  },
  {
   "cell_type": "code",
   "execution_count": 15,
   "metadata": {},
   "outputs": [
    {
     "data": {
      "text/plain": [
       "Text(0.5, 0.98, 'Common Words')"
      ]
     },
     "execution_count": 15,
     "metadata": {},
     "output_type": "execute_result"
    },
    {
     "data": {
      "image/png": "[encoded data removed]",
      "text/plain": [
       "<Figure size 864x720 with 2 Axes>"
      ]
     },
     "metadata": {
      "needs_background": "light"
     },
     "output_type": "display_data"
    }
   ],
   "source": [
    "fig,(ax1,ax2)=plt.subplots(2,1,figsize=(12,10))\n",
    "\n",
    "corpus=create_corpus(olid, 'subtask_a', 'tweet', 'OFF')\n",
    "plot_common_words(corpus, ax1, 100)\n",
    "ax1.set_title('Offensive tweets (OFF)')\n",
    "# ax1.set_xlabel('# words in a tweet')\n",
    "ax1.set_ylabel('Words')\n",
    "\n",
    "corpus=create_corpus(olid, 'subtask_a', 'tweet', 'NOT')\n",
    "plot_common_words(corpus, ax2, 100)\n",
    "ax2.set_title('Not offensive tweets  (NOT)')\n",
    "ax2.set_xlabel('Frequencies')\n",
    "ax2.set_ylabel('Words')\n",
    "\n",
    "fig.suptitle('Common Words', fontsize=16)"
   ]
  },
  {
   "cell_type": "markdown",
   "metadata": {},
   "source": [
    "## Popular Hashtags"
   ]
  },
  {
   "cell_type": "code",
   "execution_count": 16,
   "metadata": {},
   "outputs": [
    {
     "data": {
      "image/png": "[encoded data removed]",
      "text/plain": [
       "<Figure size 720x504 with 2 Axes>"
      ]
     },
     "metadata": {
      "needs_background": "light"
     },
     "output_type": "display_data"
    }
   ],
   "source": [
    "def create_hashtag_corpus(df, label, text, target):\n",
    "    corpus=[]\n",
    "    for x in df[df[label]==target][text].apply(lambda x:re.findall(r'#\\w+', x)):\n",
    "#     for x in df[df[label]==target][text].str.split():\n",
    "        for i in x:\n",
    "            corpus.append(i.lower())\n",
    "    return corpus\n",
    "\n",
    "\n",
    "fig,(ax1,ax2)=plt.subplots(2,1,figsize=(10,7))\n",
    "\n",
    "corpus=create_hashtag_corpus(olid, 'subtask_a', 'tweet', 'OFF')\n",
    "plot_common_words(corpus, ax1,15)\n",
    "ax1.set_title('Offensive tweets (OFF)')\n",
    "ax1.set_ylabel('Hashtags')\n",
    "corpus=create_hashtag_corpus(olid, 'subtask_a', 'tweet', 'NOT')\n",
    "plot_common_words(corpus, ax2,15)\n",
    "ax2.set_title('Not offensive tweets  (NOT)')\n",
    "ax2.set_ylabel('Hashtags')\n",
    "ax2.set_xlabel('Frequencies')\n",
    "# fig.suptitle('Histogram of hashtags', fontsize=16)\n",
    "plt.savefig('./hist_hashtags.png')\n",
    "# corpus=create_hashtag_corpus(olid, 'subtask_c', 'tweet', 'OTH')\n",
    "# plot_common_words(corpus, ax3,10)\n"
   ]
  },
  {
   "cell_type": "markdown",
   "metadata": {},
   "source": [
    "## Data cleaning"
   ]
  },
  {
   "cell_type": "code",
   "execution_count": 17,
   "metadata": {},
   "outputs": [],
   "source": [
    "#### Emojis\n",
    "# Reference : https://gist.github.com/slowkow/7a7f61f495e3dbb7e3d767f97bd7304b\n",
    "# def remove_emoji(text):\n",
    "#     emoji_pattern = re.compile(\"[\"\n",
    "#                            u\"\\U0001F600-\\U0001F64F\"  # emoticons\n",
    "#                            u\"\\U0001F300-\\U0001F5FF\"  # symbols & pictographs\n",
    "#                            u\"\\U0001F680-\\U0001F6FF\"  # transport & map symbols\n",
    "#                            u\"\\U0001F1E0-\\U0001F1FF\"  # flags (iOS)\n",
    "#                            u\"\\U00002702-\\U000027B0\"\n",
    "#                            u\"\\U000024C2-\\U0001F251\"\n",
    "#                            \"]+\", flags=re.UNICODE)\n",
    "#     return emoji_pattern.sub(r'', text)\n",
    "\n",
    "def remove_emoji(string):\n",
    "    emoji_pattern = re.compile(\"[\"\n",
    "                               u\"\\U0001F600-\\U0001F64F\"  # emoticons\n",
    "                               u\"\\U0001F300-\\U0001F5FF\"  # symbols & pictographs\n",
    "                               u\"\\U0001F680-\\U0001F6FF\"  # transport & map symbols\n",
    "                               u\"\\U0001F1E0-\\U0001F1FF\"  # flags (iOS)\n",
    "                               u\"\\U00002500-\\U00002BEF\"  # chinese char\n",
    "                               u\"\\U00002702-\\U000027B0\"\n",
    "                               u\"\\U00002702-\\U000027B0\"\n",
    "                               u\"\\U000024C2-\\U0001F251\"\n",
    "                               u\"\\U0001f926-\\U0001f937\"\n",
    "                               u\"\\U00010000-\\U0010ffff\"\n",
    "                               u\"\\u2640-\\u2642\"\n",
    "                               u\"\\u2600-\\u2B55\"\n",
    "                               u\"\\u200d\"\n",
    "                               u\"\\u23cf\"\n",
    "                               u\"\\u23e9\"\n",
    "                               u\"\\u231a\"\n",
    "                               u\"\\ufe0f\"  # dingbats\n",
    "                               u\"\\u3030\"\n",
    "                               \"]+\", flags=re.UNICODE)\n",
    "    return emoji_pattern.sub(r'', string)\n",
    "\n",
    "### Hashtags\n",
    "def remove_hashtag(text):\n",
    "    hashtag=re.compile(r'#\\w+')\n",
    "    return hashtag.sub(r'',text)\n",
    "\n",
    "### Punctuations\n",
    "def remove_punct(text):\n",
    "    table=str.maketrans('','',string.punctuation)\n",
    "    return text.translate(table)\n",
    "\n",
    "### Mentions\n",
    "def remove_mentions(text):\n",
    "    mention=re.compile(r'@\\w+')\n",
    "    return mention.sub(r'',text)\n",
    "\n",
    "### URL\n",
    "def remove_URL(text):\n",
    "    URL=re.compile(r'URL|&amp')\n",
    "    return URL.sub(r'',text)\n",
    "\n",
    "### Spell Checker\n",
    "\n",
    "spell = SpellChecker()\n",
    "def correct_spellings(text):\n",
    "    corrected_text = []\n",
    "    misspelled_words = spell.unknown(text.split())\n",
    "    for word in text.split():\n",
    "        if word in misspelled_words:\n",
    "            corrected_text.append(spell.correction(word))\n",
    "        else:\n",
    "            corrected_text.append(word)\n",
    "    return \" \".join(corrected_text)\n",
    "\n",
    "def clean_tweets(df):\n",
    "\n",
    "    df['tweet_cleaned'] = df['tweet'].str.lower().apply(lambda x: remove_emoji(x))\\\n",
    "                                    .apply(lambda x: remove_hashtag(x))\\\n",
    "                                    .apply(lambda x: remove_mentions(x))\\\n",
    "                                    .apply(lambda x: remove_URL(x))\\\n",
    "                                    .apply(lambda x: remove_punct(x))\\\n",
    "                                    .str.strip()\n",
    "    #                                     .apply(lambda x: correct_spellings(x))\\\n",
    "\n",
    "\n",
    "    return df\n",
    "\n",
    "def parallelize_cleaning(df, func, n_cores=10):\n",
    "    df_split = np.array_split(df, n_cores)\n",
    "    pool = Pool(n_cores)\n",
    "    df = pd.concat(pool.map(func, df_split))\n",
    "    pool.close()\n",
    "    pool.join()\n",
    "    return df\n",
    "\n",
    "# remove_URL(remove_punct(remove_mentions(remove_emoji(remove_hashtag(olid['tweet'][2]))))).strip()\n"
   ]
  },
  {
   "cell_type": "code",
   "execution_count": null,
   "metadata": {},
   "outputs": [],
   "source": [
    "\n",
    "olid_clean = parallelize_cleaning(olid, clean_tweets)\n",
    "olid_clean.to_csv('./olid.csv', index = False)"
   ]
  },
  {
   "cell_type": "code",
   "execution_count": null,
   "metadata": {},
   "outputs": [],
   "source": [
    "olid.head(10)\n"
   ]
  },
  {
   "cell_type": "code",
   "execution_count": null,
   "metadata": {
    "scrolled": true
   },
   "outputs": [],
   "source": [
    "olid_clean.to_csv('./olid.csv', index = False)"
   ]
  },
  {
   "cell_type": "markdown",
   "metadata": {},
   "source": [
    "## Test Data"
   ]
  },
  {
   "cell_type": "code",
   "execution_count": null,
   "metadata": {},
   "outputs": [],
   "source": [
    "olid_testa = pd.read_csv('../data/OLID/testset-levela.tsv', sep = '\\t')\n",
    "olid_testa_labels = pd.read_csv('../data/OLID/labels-levela.csv', header = None)\n",
    "olid_testa_labels.columns = ['id', 'subtask_a']\n",
    "\n",
    "olid_testa = pd.merge(olid_testa, olid_testa_labels)\n",
    "olid_testa_clean = parallelize_cleaning(olid_testa, clean_tweets)\n",
    "\n",
    "olid_testa_clean.to_csv('./olid-levela.csv', index = False)\n",
    "# olid_testa_labels\n"
   ]
  },
  {
   "cell_type": "code",
   "execution_count": null,
   "metadata": {},
   "outputs": [],
   "source": [
    "# pd.read_csv('./data/OLID/testset-levela.tsv', sep = '\\t')"
   ]
  },
  {
   "cell_type": "code",
   "execution_count": null,
   "metadata": {},
   "outputs": [],
   "source": [
    "# string.punctuation"
   ]
  }
 ],
 "metadata": {
  "kernelspec": {
   "display_name": "Python 3 (ipykernel)",
   "language": "python",
   "name": "python3"
  },
  "language_info": {
   "codemirror_mode": {
    "name": "ipython",
    "version": 3
   },
   "file_extension": ".py",
   "mimetype": "text/x-python",
   "name": "python",
   "nbconvert_exporter": "python",
   "pygments_lexer": "ipython3",
   "version": "3.9.7"
  }
 },
 "nbformat": 4,
 "nbformat_minor": 4
}
